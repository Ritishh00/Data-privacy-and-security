{
  "nbformat": 4,
  "nbformat_minor": 0,
  "metadata": {
    "colab": {
      "provenance": [],
      "authorship_tag": "ABX9TyOOdcahrPt2RYMrfm/UIGzi",
      "include_colab_link": true
    },
    "kernelspec": {
      "name": "python3",
      "display_name": "Python 3"
    },
    "language_info": {
      "name": "python"
    }
  },
  "cells": [
    {
      "cell_type": "markdown",
      "metadata": {
        "id": "view-in-github",
        "colab_type": "text"
      },
      "source": [
        "<a href=\"https://colab.research.google.com/github/Ritishh00/Data-privacy-and-security/blob/main/DPS.ipynb\" target=\"_parent\"><img src=\"https://colab.research.google.com/assets/colab-badge.svg\" alt=\"Open In Colab\"/></a>"
      ]
    },
    {
      "cell_type": "markdown",
      "source": [
        "**30-01-25:**:"
      ],
      "metadata": {
        "id": "MQ7tUNlMh0G9"
      }
    },
    {
      "cell_type": "code",
      "execution_count": 4,
      "metadata": {
        "colab": {
          "base_uri": "https://localhost:8080/"
        },
        "id": "E2BXQUK-dhcc",
        "outputId": "9db1318d-0ec3-4f5f-ae9a-834c141295e5"
      },
      "outputs": [
        {
          "output_type": "stream",
          "name": "stdout",
          "text": [
            "Patient Name    Address              Age  \n",
            "----------------------------------------\n",
            "John Doe        123 Main St          35   \n",
            "Jane Smith      456 Oak Ave          42   \n",
            "Tom Brown       789 Pine Rd          53   \n",
            "Emily Davis     101 Maple Dr         24   \n"
          ]
        }
      ],
      "source": [
        "import pandas as pd\n",
        "data = [\n",
        "    {\"Patient Name\": \"John Doe\", \"Address\": \"123 Main St\", \"Age\": 35},\n",
        "    {\"Patient Name\": \"Jane Smith\", \"Address\": \"456 Oak Ave\", \"Age\": 42},\n",
        "    {\"Patient Name\": \"Tom Brown\", \"Address\": \"789 Pine Rd\", \"Age\": 53},\n",
        "    {\"Patient Name\": \"Emily Davis\", \"Address\": \"101 Maple Dr\", \"Age\": 24}\n",
        "]\n",
        "df = pd.DataFrame(data)\n",
        "# Print the data in tabular form\n",
        "print(f\"{'Patient Name':<15} {'Address':<20} {'Age':<5}\")\n",
        "print(\"-\" * 40)\n",
        "for entry in data:\n",
        "    print(f\"{entry['Patient Name']:<15} {entry['Address']:<20} {entry['Age']:<5}\")\n"
      ]
    },
    {
      "cell_type": "code",
      "source": [
        "df['Patient Name'] = ['patient' + str(i+1) for  i in range(len(df))]\n",
        "df['Address'] = ['removed' for _ in range(len(df))]"
      ],
      "metadata": {
        "id": "vF3gapQcdimT"
      },
      "execution_count": 5,
      "outputs": []
    },
    {
      "cell_type": "code",
      "source": [
        "def age_range(age):\n",
        "    if 20<=age<=30:\n",
        "        return '20-30'\n",
        "    elif 31<=age<=40:\n",
        "        return '31-40'\n",
        "    elif 41<=age<=50:\n",
        "        return '41-50'\n",
        "    else:\n",
        "        return 'other'\n",
        "\n",
        "    df['Age Range'] = df['Age'].apply(age_range)\n",
        "    df = df.drop(columns=['Age'])"
      ],
      "metadata": {
        "id": "HJBrPjZteszT"
      },
      "execution_count": 13,
      "outputs": []
    },
    {
      "cell_type": "code",
      "source": [],
      "metadata": {
        "id": "yXrl-412gKVq"
      },
      "execution_count": null,
      "outputs": []
    }
  ]
}